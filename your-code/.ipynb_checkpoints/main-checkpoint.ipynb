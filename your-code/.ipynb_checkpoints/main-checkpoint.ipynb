{
 "cells": [
  {
   "cell_type": "markdown",
   "metadata": {},
   "source": [
    "#### 1. Import pandas library"
   ]
  },
  {
   "cell_type": "code",
   "execution_count": 9,
   "metadata": {},
   "outputs": [],
   "source": [
    "import pandas as pd"
   ]
  },
  {
   "cell_type": "markdown",
   "metadata": {},
   "source": [
    "#### 2. Import users table:"
   ]
  },
  {
   "cell_type": "code",
   "execution_count": 10,
   "metadata": {},
   "outputs": [],
   "source": [
    "users = pd.read_csv('users_table.csv')"
   ]
  },
  {
   "cell_type": "markdown",
   "metadata": {},
   "source": [
    "#### 3. Rename Id column to userId"
   ]
  },
  {
   "cell_type": "code",
   "execution_count": 15,
   "metadata": {},
   "outputs": [
    {
     "name": "stdout",
     "output_type": "stream",
     "text": [
      "   userId  Reputation         CreationDate   DisplayName       LastAccessDate  \\\n",
      "0      -1           1  2010-07-19 06:55:26     Community  2010-07-19 06:55:26   \n",
      "1       2         101  2010-07-19 14:01:36  Geoff Dalgas  2013-11-12 22:07:23   \n",
      "2       3         101  2010-07-19 15:34:50  Jarrod Dixon  2014-08-08 06:42:58   \n",
      "3       4         101  2010-07-19 19:03:27        Emmett  2014-01-02 09:31:02   \n",
      "4       5        6792  2010-07-19 19:03:57         Shane  2014-08-13 00:23:47   \n",
      "\n",
      "                       WebsiteUrl            Location  \\\n",
      "0  http://meta.stackexchange.com/  on the server farm   \n",
      "1        http://stackoverflow.com       Corvallis, OR   \n",
      "2        http://stackoverflow.com        New York, NY   \n",
      "3    http://minesweeperonline.com   San Francisco, CA   \n",
      "4         http://www.statalgo.com        New York, NY   \n",
      "\n",
      "                                             AboutMe  Views  UpVotes  \\\n",
      "0  <p>Hi, I'm not really a person.</p>\\r\\n\\r\\n<p>...      0     5007   \n",
      "1  <p>Developer on the StackOverflow team.  Find ...     25        3   \n",
      "2  <p><a href=\"http://blog.stackoverflow.com/2009...     22       19   \n",
      "3  <p>currently at a startup in SF</p>\\r\\n\\r\\n<p>...     11        0   \n",
      "4  <p>Quantitative researcher focusing on statist...   1145      662   \n",
      "\n",
      "   DownVotes  AccountId   Age                     ProfileImageUrl  \n",
      "0       1920         -1   NaN                                 NaN  \n",
      "1          0          2  37.0                                 NaN  \n",
      "2          0          3  35.0                                 NaN  \n",
      "3          0       1998  28.0  http://i.stack.imgur.com/d1oHX.jpg  \n",
      "4          5      54503  35.0                                 NaN  \n"
     ]
    }
   ],
   "source": [
    "users = users.rename(columns={'Id': 'userId'})\n",
    "\n",
    "# Show the first 5 rows to confirm the change\n",
    "print(users.head())"
   ]
  },
  {
   "cell_type": "markdown",
   "metadata": {},
   "source": [
    "#### 4. Import posts table:"
   ]
  },
  {
   "cell_type": "code",
   "execution_count": 16,
   "metadata": {},
   "outputs": [],
   "source": [
    "posts = pd.read_csv('posts_table.csv')"
   ]
  },
  {
   "cell_type": "markdown",
   "metadata": {},
   "source": [
    "#### 5. Rename Id column to postId and OwnerUserId to userId"
   ]
  },
  {
   "cell_type": "code",
   "execution_count": 17,
   "metadata": {},
   "outputs": [
    {
     "name": "stdout",
     "output_type": "stream",
     "text": [
      "   postId  PostTypeId  AcceptedAnswerId          CreaionDate  Score  \\\n",
      "0       1           1              15.0  2010-07-19 19:12:12     23   \n",
      "1       2           1              59.0  2010-07-19 19:12:57     22   \n",
      "2       3           1               5.0  2010-07-19 19:13:28     54   \n",
      "3       4           1             135.0  2010-07-19 19:13:31     13   \n",
      "4       5           2               NaN  2010-07-19 19:14:43     81   \n",
      "\n",
      "   ViewCount                                               Body  userId  \\\n",
      "0     1278.0  <p>How should I elicit prior distributions fro...     8.0   \n",
      "1     8198.0  <p>In many different statistical methods there...    24.0   \n",
      "2     3613.0  <p>What are some valuable Statistical Analysis...    18.0   \n",
      "3     5224.0  <p>I have two groups of data.  Each with a dif...    23.0   \n",
      "4        NaN  <p>The R-project</p>\\n\\n<p><a href=\"http://www...    23.0   \n",
      "\n",
      "       LasActivityDate                                              Title  \\\n",
      "0  2010-09-15 21:08:26                      Eliciting priors from experts   \n",
      "1  2012-11-12 09:21:54                                 What is normality?   \n",
      "2  2013-05-27 14:48:36  What are some valuable Statistical Analysis op...   \n",
      "3  2010-09-08 03:00:19  Assessing the significance of differences in d...   \n",
      "4  2010-07-19 19:21:15                                                NaN   \n",
      "\n",
      "   ... AnswerCount  CommentCount  FavoriteCount  LastEditorUserId  \\\n",
      "0  ...         5.0             1           14.0               NaN   \n",
      "1  ...         7.0             1            8.0              88.0   \n",
      "2  ...        19.0             4           36.0             183.0   \n",
      "3  ...         5.0             2            2.0               NaN   \n",
      "4  ...         NaN             3            NaN              23.0   \n",
      "\n",
      "          LastEditDate   CommunityOwnedDate ParentId  ClosedDate  \\\n",
      "0                  NaN                  NaN      NaN         NaN   \n",
      "1  2010-08-07 17:56:44                  NaN      NaN         NaN   \n",
      "2  2011-02-12 05:50:03  2010-07-19 19:13:28      NaN         NaN   \n",
      "3                  NaN                  NaN      NaN         NaN   \n",
      "4  2010-07-19 19:21:15  2010-07-19 19:14:43      3.0         NaN   \n",
      "\n",
      "  OwnerDisplayName LastEditorDisplayName  \n",
      "0              NaN                   NaN  \n",
      "1              NaN                   NaN  \n",
      "2              NaN                   NaN  \n",
      "3              NaN                   NaN  \n",
      "4              NaN                   NaN  \n",
      "\n",
      "[5 rows x 21 columns]\n"
     ]
    }
   ],
   "source": [
    "posts = posts.rename(columns={'Id': 'postId', 'OwnerUserId': 'userId'})\n",
    "\n",
    "# Show the first 5 rows of posts to check column names\n",
    "print(posts.head())"
   ]
  },
  {
   "cell_type": "markdown",
   "metadata": {},
   "source": [
    "#### 6. Define new dataframes for users and posts with the following selected columns:\n",
    "    **users columns**: userId, Reputation,Views,UpVotes,DownVotes\n",
    "    **posts columns**: postId, Score,userId,ViewCount,CommentCount"
   ]
  },
  {
   "cell_type": "code",
   "execution_count": 19,
   "metadata": {},
   "outputs": [
    {
     "name": "stdout",
     "output_type": "stream",
     "text": [
      "   userId  Reputation  Views  UpVotes  DownVotes\n",
      "0      -1           1      0     5007       1920\n",
      "1       2         101     25        3          0\n",
      "2       3         101     22       19          0\n",
      "3       4         101     11        0          0\n",
      "4       5        6792   1145      662          5\n",
      "   postId  Score  userId  ViewCount  CommentCount\n",
      "0       1     23     8.0     1278.0             1\n",
      "1       2     22    24.0     8198.0             1\n",
      "2       3     54    18.0     3613.0             4\n",
      "3       4     13    23.0     5224.0             2\n",
      "4       5     81    23.0        NaN             3\n"
     ]
    }
   ],
   "source": [
    "users_selected = users[['userId', 'Reputation', 'Views', 'UpVotes', 'DownVotes']] # Create a new users dataframe with selected columns\n",
    "\n",
    "posts_selected = posts[['postId', 'Score', 'userId', 'ViewCount', 'CommentCount']] # Create a new posts dataframe with selected columns\n",
    "\n",
    "# Show first rows of the new users dataframe\n",
    "print(users_selected.head())\n",
    "\n",
    "# Show first rows of the new posts dataframe\n",
    "print(posts_selected.head())"
   ]
  },
  {
   "cell_type": "markdown",
   "metadata": {},
   "source": [
    "#### 7. Merge both dataframes, users and posts. \n",
    "You will need to make a [merge](https://pandas.pydata.org/pandas-docs/stable/generated/pandas.DataFrame.merge.html) of posts and users dataframes."
   ]
  },
  {
   "cell_type": "code",
   "execution_count": 21,
   "metadata": {},
   "outputs": [
    {
     "name": "stdout",
     "output_type": "stream",
     "text": [
      "   postId  Score  userId  ViewCount  CommentCount  Reputation  Views  UpVotes  \\\n",
      "0       1     23     8.0     1278.0             1        6764   1089      604   \n",
      "1       2     22    24.0     8198.0             1         344     48       36   \n",
      "2       3     54    18.0     3613.0             4         128      8       16   \n",
      "3       4     13    23.0     5224.0             2         308     52       34   \n",
      "4       5     81    23.0        NaN             3         308     52       34   \n",
      "\n",
      "   DownVotes  \n",
      "0         25  \n",
      "1          1  \n",
      "2          0  \n",
      "3          1  \n",
      "4          1  \n"
     ]
    }
   ],
   "source": [
    "merged_df = posts_selected.merge(users_selected, on='userId', how='inner') # Merge posts and users dataframes on 'userId'\n",
    "\n",
    "print(merged_df.head())"
   ]
  },
  {
   "cell_type": "markdown",
   "metadata": {},
   "source": [
    "#### 8. How many missing values do you have in your merged dataframe? On which columns?"
   ]
  },
  {
   "cell_type": "code",
   "execution_count": 22,
   "metadata": {},
   "outputs": [
    {
     "name": "stdout",
     "output_type": "stream",
     "text": [
      "ViewCount    23572\n",
      "dtype: int64\n"
     ]
    }
   ],
   "source": [
    "missing_values = merged_df.isnull().sum() # Check how many missing values there are in each column\n",
    "\n",
    "print(missing_values[missing_values > 0]) # Display only columns that have missing values"
   ]
  },
  {
   "cell_type": "markdown",
   "metadata": {},
   "source": [
    "#### 9. You will need to make something with missing values.  Will you clean or filling them? Explain. \n",
    "**Remember** to check the results of your code before passing to the next step"
   ]
  },
  {
   "cell_type": "code",
   "execution_count": 27,
   "metadata": {},
   "outputs": [
    {
     "name": "stdout",
     "output_type": "stream",
     "text": [
      "postId          0\n",
      "Score           0\n",
      "userId          0\n",
      "ViewCount       0\n",
      "CommentCount    0\n",
      "Reputation      0\n",
      "Views           0\n",
      "UpVotes         0\n",
      "DownVotes       0\n",
      "dtype: int64\n"
     ]
    }
   ],
   "source": [
    "merged_df['ViewCount'] = merged_df['ViewCount'].fillna(0)  #Even though I used an inner merge, some columns in the posts dataframe (like ViewCount) already had missing values. To handle this, I decided to fill the missing values in ViewCount with 0, assuming that posts without view count recorded likely had zero views or incomplete data.\n",
    "\n",
    "print(merged_df.isnull().sum()) # Check again for missing values after filling"
   ]
  },
  {
   "cell_type": "markdown",
   "metadata": {},
   "source": [
    "#### 10. Adjust the data types in order to avoid future issues. Which ones should be changed? "
   ]
  },
  {
   "cell_type": "code",
   "execution_count": 28,
   "metadata": {},
   "outputs": [
    {
     "name": "stdout",
     "output_type": "stream",
     "text": [
      "postId            int64\n",
      "Score             int64\n",
      "userId          float64\n",
      "ViewCount       float64\n",
      "CommentCount      int64\n",
      "Reputation        int64\n",
      "Views             int64\n",
      "UpVotes           int64\n",
      "DownVotes         int64\n",
      "dtype: object\n"
     ]
    }
   ],
   "source": [
    "print(merged_df.dtypes) # Check current data types\n"
   ]
  },
  {
   "cell_type": "code",
   "execution_count": 29,
   "metadata": {},
   "outputs": [],
   "source": [
    "# Convert userId and ViewCount to integer. These columns should be integers because they represent IDs and countable values. \n",
    "merged_df['userId'] = merged_df['userId'].astype(int)\n",
    "merged_df['ViewCount'] = merged_df['ViewCount'].astype(int)"
   ]
  },
  {
   "cell_type": "code",
   "execution_count": 30,
   "metadata": {},
   "outputs": [
    {
     "name": "stdout",
     "output_type": "stream",
     "text": [
      "postId          int64\n",
      "Score           int64\n",
      "userId          int64\n",
      "ViewCount       int64\n",
      "CommentCount    int64\n",
      "Reputation      int64\n",
      "Views           int64\n",
      "UpVotes         int64\n",
      "DownVotes       int64\n",
      "dtype: object\n"
     ]
    }
   ],
   "source": [
    "print(merged_df.dtypes) # Check current data types again"
   ]
  }
 ],
 "metadata": {
  "kernelspec": {
   "display_name": "Python 3 (ipykernel)",
   "language": "python",
   "name": "python3"
  },
  "language_info": {
   "codemirror_mode": {
    "name": "ipython",
    "version": 3
   },
   "file_extension": ".py",
   "mimetype": "text/x-python",
   "name": "python",
   "nbconvert_exporter": "python",
   "pygments_lexer": "ipython3",
   "version": "3.13.2"
  }
 },
 "nbformat": 4,
 "nbformat_minor": 4
}
